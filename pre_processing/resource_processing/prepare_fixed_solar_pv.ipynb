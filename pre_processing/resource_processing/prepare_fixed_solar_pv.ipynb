{
 "cells": [
  {
   "cell_type": "markdown",
   "metadata": {},
   "source": [
    "# Overview\n",
    "This notebook compares the predicted solar PV generation profiles at each existing REIPPPP site.\n",
    "The aggregated fleet production is then validated against actual Eskom data from https://www.eskom.co.za/dataportal/.\n",
    "\n",
    "Solar resource data is sourced from:\n",
    " - ERA5\n",
    "   - ERA5 data can be downloaded through the Copernicus Climate Data Store cdsapi package, and requires \n",
    "registration and setup as per https://cds.climate.copernicus.eu/api-how-to. (See notebook prepare_atlite_cutouts.ipynb)\n",
    " - SARAH \n",
    "   - SARAH data can be downloaded via from EUMETSAT CMSAF using the portal https://wui.cmsaf.eu/safira/action/viewProduktSearch\n",
    "Surface Incoming Direct Radiation (SID), Surface Incoming Shortwave Radiation (SIS) and Direct Normal Irradiance (DNI) should be downloaded\n",
    "and extracted into the sarah_dir path. (See notebook prepare_atlite_cutouts.ipynb)\n",
    "- NREL NSRDB\n",
    "   - The NREL National Solar Resource Database (NSRDB) can be accessed through either a range of options\n",
    "      - Via developer API (see https://developer.nrel.gov/docs/solar/nsrdb/)\n",
    "      - Through System Advisor Model (SAM) software\n",
    "      - Via the NREL Highly Scalable Data Service (see https://github.com/NREL/hsds-examples)\n",
    "\n",
    "   - The NSRDB data used in this notebook was accessed through SAM. A series (lat,lon) points were generated at the center of each ERA5 grid cell\n",
    "and then imported into SAM. The csv file for the ERA5 grid points can be found under XXX\n",
    "\n",
    "- CSIR and Fraunhofer Solar Wind Aggregation Study for South Africa\n",
    "\n",
    "Recreating data using atlite and ERA5 is simpler than using atlite with SARAH or using NSRDB. Both python libraries include PV models for fixed and tracking configuorations.\n",
    "\n",
    "The raw solar resource data is converted into power generation profiles using 2 python libraries.\n",
    "- Atlite (see https://atlite.readthedocs.io/en/latest/)\n",
    "- PySAM by NREL (see https://nrel-pysam.readthedocs.io/en/main/)\n"
   ]
  },
  {
   "cell_type": "code",
   "execution_count": 1,
   "metadata": {},
   "outputs": [
    {
     "ename": "ModuleNotFoundError",
     "evalue": "No module named 'PySAM'",
     "output_type": "error",
     "traceback": [
      "\u001b[31m---------------------------------------------------------------------------\u001b[39m",
      "\u001b[31mModuleNotFoundError\u001b[39m                       Traceback (most recent call last)",
      "\u001b[36mCell\u001b[39m\u001b[36m \u001b[39m\u001b[32mIn[1]\u001b[39m\u001b[32m, line 4\u001b[39m\n\u001b[32m      2\u001b[39m \u001b[38;5;28;01mimport\u001b[39;00m\u001b[38;5;250m \u001b[39m\u001b[34;01mxarray\u001b[39;00m\u001b[38;5;250m \u001b[39m\u001b[38;5;28;01mas\u001b[39;00m\u001b[38;5;250m \u001b[39m\u001b[34;01mxr\u001b[39;00m\n\u001b[32m      3\u001b[39m \u001b[38;5;28;01mimport\u001b[39;00m\u001b[38;5;250m \u001b[39m\u001b[34;01mpandas\u001b[39;00m\u001b[38;5;250m \u001b[39m\u001b[38;5;28;01mas\u001b[39;00m\u001b[38;5;250m \u001b[39m\u001b[34;01mpd\u001b[39;00m\n\u001b[32m----> \u001b[39m\u001b[32m4\u001b[39m \u001b[38;5;28;01mimport\u001b[39;00m\u001b[38;5;250m \u001b[39m\u001b[34;01mPySAM\u001b[39;00m\u001b[34;01m.\u001b[39;00m\u001b[34;01mPvwattsv8\u001b[39;00m\u001b[38;5;250m \u001b[39m\u001b[38;5;28;01mas\u001b[39;00m\u001b[38;5;250m \u001b[39m\u001b[34;01mpv\u001b[39;00m\n\u001b[32m      5\u001b[39m \u001b[38;5;28;01mimport\u001b[39;00m\u001b[38;5;250m \u001b[39m\u001b[34;01mnumpy\u001b[39;00m\u001b[38;5;250m \u001b[39m\u001b[38;5;28;01mas\u001b[39;00m\u001b[38;5;250m \u001b[39m\u001b[34;01mnp\u001b[39;00m\n\u001b[32m      6\u001b[39m \u001b[38;5;28;01mimport\u001b[39;00m\u001b[38;5;250m \u001b[39m\u001b[34;01mos\u001b[39;00m\n",
      "\u001b[31mModuleNotFoundError\u001b[39m: No module named 'PySAM'"
     ]
    }
   ],
   "source": [
    "import atlite\n",
    "import xarray as xr\n",
    "import pandas as pd\n",
    "import PySAM.Pvwattsv8 as pv\n",
    "import numpy as np\n",
    "import os\n",
    "import matplotlib.pyplot as plt\n",
    "\n",
    "from shapely import Point\n",
    "import geopandas as gpd\n",
    "\n",
    "from _helpers import (\n",
    "    get_nsrdb_weather_file,\n",
    "    aggregate_intra_region,\n",
    "    generate_pv_timeseries,\n",
    "    reshape_xarray,\n",
    "    load_gis_data,\n",
    "    find_closest_nsrdb_file,\n",
    ")"
   ]
  },
  {
   "cell_type": "markdown",
   "metadata": {},
   "source": [
    "# Load input data"
   ]
  },
  {
   "cell_type": "code",
   "execution_count": 2,
   "metadata": {},
   "outputs": [],
   "source": [
    "# load REIPPPP plant data\n",
    "reippp_data = pd.read_csv('reipppp_solar_data.csv', index_col=1)\n",
    "reippp_data[\"ignore\"] = reippp_data[\"COD\"].isna()\n",
    "reippp_data[\"COD\"] = pd.to_datetime(reippp_data[\"COD\"])"
   ]
  },
  {
   "cell_type": "code",
   "execution_count": 3,
   "metadata": {},
   "outputs": [
    {
     "ename": "NameError",
     "evalue": "name 'load_gis_data' is not defined",
     "output_type": "error",
     "traceback": [
      "\u001b[31m---------------------------------------------------------------------------\u001b[39m",
      "\u001b[31mNameError\u001b[39m                                 Traceback (most recent call last)",
      "\u001b[36mCell\u001b[39m\u001b[36m \u001b[39m\u001b[32mIn[3]\u001b[39m\u001b[32m, line 2\u001b[39m\n\u001b[32m      1\u001b[39m data_bundle_path = \u001b[33m\"\u001b[39m\u001b[33m../../data/bundle\u001b[39m\u001b[33m\"\u001b[39m\n\u001b[32m----> \u001b[39m\u001b[32m2\u001b[39m gis_data = \u001b[43mload_gis_data\u001b[49m(data_bundle_path)\n",
      "\u001b[31mNameError\u001b[39m: name 'load_gis_data' is not defined"
     ]
    }
   ],
   "source": [
    "data_bundle_path = \"../../data/bundle\"\n",
    "gis_data = load_gis_data(data_bundle_path)"
   ]
  },
  {
   "cell_type": "markdown",
   "metadata": {},
   "source": [
    "# atlite ERA5 and SARAH"
   ]
  },
  {
   "cell_type": "code",
   "execution_count": 4,
   "metadata": {},
   "outputs": [
    {
     "ename": "TypeError",
     "evalue": "Arguments 'time' and 'module' must be specified. Spatial bounds must either be passed via argument 'bounds' or 'x' and 'y'.",
     "output_type": "error",
     "traceback": [
      "\u001b[31m---------------------------------------------------------------------------\u001b[39m",
      "\u001b[31mKeyError\u001b[39m                                  Traceback (most recent call last)",
      "\u001b[36mFile \u001b[39m\u001b[32m~/anaconda3/envs/pypsa-rsa/lib/python3.12/site-packages/atlite/cutout.py:170\u001b[39m, in \u001b[36mCutout.__init__\u001b[39m\u001b[34m(self, path, **cutoutparams)\u001b[39m\n\u001b[32m    169\u001b[39m \u001b[38;5;28;01mtry\u001b[39;00m:\n\u001b[32m--> \u001b[39m\u001b[32m170\u001b[39m     x = \u001b[43mcutoutparams\u001b[49m\u001b[43m.\u001b[49m\u001b[43mpop\u001b[49m\u001b[43m(\u001b[49m\u001b[33;43m\"\u001b[39;49m\u001b[33;43mx\u001b[39;49m\u001b[33;43m\"\u001b[39;49m\u001b[43m)\u001b[49m\n\u001b[32m    171\u001b[39m     y = cutoutparams.pop(\u001b[33m\"\u001b[39m\u001b[33my\u001b[39m\u001b[33m\"\u001b[39m)\n",
      "\u001b[31mKeyError\u001b[39m: 'x'",
      "\nThe above exception was the direct cause of the following exception:\n",
      "\u001b[31mTypeError\u001b[39m                                 Traceback (most recent call last)",
      "\u001b[36mCell\u001b[39m\u001b[36m \u001b[39m\u001b[32mIn[4]\u001b[39m\u001b[32m, line 2\u001b[39m\n\u001b[32m      1\u001b[39m \u001b[38;5;66;03m# load cutouts - already downloaded\u001b[39;00m\n\u001b[32m----> \u001b[39m\u001b[32m2\u001b[39m cutout_era5 = \u001b[43matlite\u001b[49m\u001b[43m.\u001b[49m\u001b[43mCutout\u001b[49m\u001b[43m(\u001b[49m\n\u001b[32m      3\u001b[39m \u001b[43m    \u001b[49m\u001b[43mpath\u001b[49m\u001b[43m=\u001b[49m\u001b[33;43m\"\u001b[39;49m\u001b[33;43m../../cutouts/RSA-2010_22-era5.nc\u001b[39;49m\u001b[33;43m\"\u001b[39;49m\u001b[43m,\u001b[49m\n\u001b[32m      4\u001b[39m \u001b[43m    \u001b[49m\u001b[43mchunks\u001b[49m\u001b[43m=\u001b[49m\u001b[43m{\u001b[49m\u001b[33;43m\"\u001b[39;49m\u001b[33;43mtime\u001b[39;49m\u001b[33;43m\"\u001b[39;49m\u001b[43m:\u001b[49m\u001b[43m \u001b[49m\u001b[32;43m1000\u001b[39;49m\u001b[43m}\u001b[49m\u001b[43m,\u001b[49m\n\u001b[32m      5\u001b[39m \u001b[43m)\u001b[49m\n\u001b[32m      6\u001b[39m cutout_era5.data = cutout_era5.data.sel(time=\u001b[38;5;28mslice\u001b[39m(\u001b[33m\"\u001b[39m\u001b[33m2017-01-01\u001b[39m\u001b[33m\"\u001b[39m, \u001b[33m\"\u001b[39m\u001b[33m2022-12-31\u001b[39m\u001b[33m\"\u001b[39m))\n\u001b[32m      7\u001b[39m cutout_era5.data = cutout_era5.data.sel(time=~((cutout_era5.data.time.dt.month == \u001b[32m2\u001b[39m) & (cutout_era5.data.time.dt.day == \u001b[32m29\u001b[39m)))\n",
      "\u001b[36mFile \u001b[39m\u001b[32m~/anaconda3/envs/pypsa-rsa/lib/python3.12/site-packages/atlite/cutout.py:175\u001b[39m, in \u001b[36mCutout.__init__\u001b[39m\u001b[34m(self, path, **cutoutparams)\u001b[39m\n\u001b[32m    173\u001b[39m     module = cutoutparams.pop(\u001b[33m\"\u001b[39m\u001b[33mmodule\u001b[39m\u001b[33m\"\u001b[39m)\n\u001b[32m    174\u001b[39m \u001b[38;5;28;01mexcept\u001b[39;00m \u001b[38;5;167;01mKeyError\u001b[39;00m \u001b[38;5;28;01mas\u001b[39;00m exc:\n\u001b[32m--> \u001b[39m\u001b[32m175\u001b[39m     \u001b[38;5;28;01mraise\u001b[39;00m \u001b[38;5;167;01mTypeError\u001b[39;00m(\n\u001b[32m    176\u001b[39m         \u001b[33m\"\u001b[39m\u001b[33mArguments \u001b[39m\u001b[33m'\u001b[39m\u001b[33mtime\u001b[39m\u001b[33m'\u001b[39m\u001b[33m and \u001b[39m\u001b[33m'\u001b[39m\u001b[33mmodule\u001b[39m\u001b[33m'\u001b[39m\u001b[33m must be \u001b[39m\u001b[33m\"\u001b[39m\n\u001b[32m    177\u001b[39m         \u001b[33m\"\u001b[39m\u001b[33mspecified. Spatial bounds must either be \u001b[39m\u001b[33m\"\u001b[39m\n\u001b[32m    178\u001b[39m         \u001b[33m\"\u001b[39m\u001b[33mpassed via argument \u001b[39m\u001b[33m'\u001b[39m\u001b[33mbounds\u001b[39m\u001b[33m'\u001b[39m\u001b[33m or \u001b[39m\u001b[33m'\u001b[39m\u001b[33mx\u001b[39m\u001b[33m'\u001b[39m\u001b[33m and \u001b[39m\u001b[33m'\u001b[39m\u001b[33my\u001b[39m\u001b[33m'\u001b[39m\u001b[33m.\u001b[39m\u001b[33m\"\u001b[39m\n\u001b[32m    179\u001b[39m     ) \u001b[38;5;28;01mfrom\u001b[39;00m\u001b[38;5;250m \u001b[39m\u001b[34;01mexc\u001b[39;00m\n\u001b[32m    181\u001b[39m \u001b[38;5;66;03m# TODO: check for dx, dy, x, y fine with module requirements\u001b[39;00m\n\u001b[32m    182\u001b[39m coords = get_coords(x, y, time, **cutoutparams)\n",
      "\u001b[31mTypeError\u001b[39m: Arguments 'time' and 'module' must be specified. Spatial bounds must either be passed via argument 'bounds' or 'x' and 'y'."
     ]
    }
   ],
   "source": [
    "# load cutouts - already downloaded\n",
    "cutout_era5 = atlite.Cutout(\n",
    "    path=\"../../cutouts/RSA-2010_22-era5.nc\",\n",
    "    chunks={\"time\": 1000},\n",
    ")\n",
    "cutout_era5.data = cutout_era5.data.sel(time=slice(\"2017-01-01\", \"2022-12-31\"))\n",
    "cutout_era5.data = cutout_era5.data.sel(time=~((cutout_era5.data.time.dt.month == 2) & (cutout_era5.data.time.dt.day == 29)))\n",
    "\n",
    "era5_ft = generate_pv_timeseries(cutout_era5, \"Fixed Tilt\", dc_ac_ratio=1, module=\"era5\") #dc-ac ratio implemented later in code, set as 1 here\n",
    "era5_sat = generate_pv_timeseries(cutout_era5, \"Single Axis\", dc_ac_ratio=1, module=\"era5\") #dc-ac ratio implemented later in code, set as 1 here\n",
    "era5_pu_ds = xr.Dataset({\"Fixed Tilt\": era5_ft, \"Single Axis\": era5_sat})\n",
    "\n",
    "cutout_sarah = atlite.Cutout(\n",
    "    path=\"../../cutouts/RSA-2017_22-sarah.nc\",\n",
    "    chunks={\"time\": 1000},\n",
    ")\n",
    "cutout_sarah.data = cutout_sarah.data.sel(time=slice(\"2017-01-01\", \"2022-12-31\"))\n",
    "cutout_sarah.data = cutout_sarah.data.sel(time=~((cutout_sarah.data.time.dt.month == 2) & (cutout_sarah.data.time.dt.day == 29)))\n",
    "\n",
    "cutout_sarah.data = cutout_sarah.data.interp(y=cutout_era5.grid.y.unique(), x=cutout_era5.grid.x.unique(), method=\"linear\")\n",
    "cutout_sarah = cutout_sarah.merge(cutout_era5, compat=\"override\")\n",
    "\n",
    "sarah_ft = generate_pv_timeseries(cutout_sarah, \"Fixed Tilt\", dc_ac_ratio=1, module=\"sarah\") #dc-ac ratio implemented later in code, set as 1 here\n",
    "sarah_sat = generate_pv_timeseries(cutout_sarah, \"Single Axis\", dc_ac_ratio=1, module=\"sarah\") #dc-ac ratio implemented later in code, set as 1 here\n",
    "sarah_pu_ds = xr.Dataset({\"Fixed Tilt\": sarah_ft, \"Single Axis\": sarah_sat})"
   ]
  },
  {
   "cell_type": "code",
   "execution_count": 5,
   "metadata": {},
   "outputs": [
    {
     "ename": "NameError",
     "evalue": "name 'cutout_era5' is not defined",
     "output_type": "error",
     "traceback": [
      "\u001b[31m---------------------------------------------------------------------------\u001b[39m",
      "\u001b[31mNameError\u001b[39m                                 Traceback (most recent call last)",
      "\u001b[36mCell\u001b[39m\u001b[36m \u001b[39m\u001b[32mIn[5]\u001b[39m\u001b[32m, line 3\u001b[39m\n\u001b[32m      1\u001b[39m era5_power = pd.DataFrame(\n\u001b[32m      2\u001b[39m     \u001b[32m0\u001b[39m,\n\u001b[32m----> \u001b[39m\u001b[32m3\u001b[39m     index = \u001b[43mcutout_era5\u001b[49m.coords[\u001b[33m\"\u001b[39m\u001b[33mtime\u001b[39m\u001b[33m\"\u001b[39m].values,\n\u001b[32m      4\u001b[39m     columns = reippp_data.index\n\u001b[32m      5\u001b[39m )\n\u001b[32m      6\u001b[39m capacity = era5_power.copy()\n\u001b[32m      7\u001b[39m sarah_power = era5_power.copy()\n",
      "\u001b[31mNameError\u001b[39m: name 'cutout_era5' is not defined"
     ]
    }
   ],
   "source": [
    "era5_power = pd.DataFrame(\n",
    "    0,\n",
    "    index = cutout_era5.coords[\"time\"].values,\n",
    "    columns = reippp_data.index\n",
    ")\n",
    "capacity = era5_power.copy()\n",
    "sarah_power = era5_power.copy()\n",
    "\n",
    "era5_pu = era5_power.copy()\n",
    "sarah_pu = era5_power.copy()\n",
    "\n",
    "for idx, row in reippp_data.iterrows():\n",
    "  \n",
    "    era5_pu[idx] = era5_pu_ds[row[\"Type\"]].sel(lat=row[\"latitude\"], lon=row[\"longitude\"], method=\"nearest\").to_series()\n",
    "    era5_pu[idx] = (era5_pu[idx] * row[\"dc_ac_ratio\"]).clip(upper=1)\n",
    "    \n",
    "    instl_cap = pd.Series(row[\"capacity\"], index = era5_pu.index)\n",
    "    instl_cap[instl_cap.index < row[\"COD\"]] = 0\n",
    "    capacity[idx] = instl_cap\n",
    "    if row[\"ignore\"]:\n",
    "        capacity[idx] = 0\n",
    "    era5_power[idx] = era5_pu[idx] * capacity[idx]\n",
    "\n",
    "    sarah_pu[idx] = sarah_pu_ds[row[\"Type\"]].sel(lat=row[\"latitude\"], lon=row[\"longitude\"], method=\"nearest\").to_series()\n",
    "    sarah_pu[idx] = (sarah_pu[idx] * row[\"dc_ac_ratio\"]).clip(upper=1)\n",
    "    sarah_power[idx] = sarah_pu[idx] * capacity[idx]"
   ]
  },
  {
   "cell_type": "code",
   "execution_count": 6,
   "metadata": {},
   "outputs": [
    {
     "ename": "NameError",
     "evalue": "name 'era5_power' is not defined",
     "output_type": "error",
     "traceback": [
      "\u001b[31m---------------------------------------------------------------------------\u001b[39m",
      "\u001b[31mNameError\u001b[39m                                 Traceback (most recent call last)",
      "\u001b[36mCell\u001b[39m\u001b[36m \u001b[39m\u001b[32mIn[6]\u001b[39m\u001b[32m, line 2\u001b[39m\n\u001b[32m      1\u001b[39m \u001b[38;5;66;03m# remove any 29 Feb on leap years\u001b[39;00m\n\u001b[32m----> \u001b[39m\u001b[32m2\u001b[39m era5_power = \u001b[43mera5_power\u001b[49m[~((era5_power.index.month == \u001b[32m2\u001b[39m) & (era5_power.index.day == \u001b[32m29\u001b[39m))]\n\u001b[32m      3\u001b[39m sarah_power = sarah_power[~((sarah_power.index.month == \u001b[32m2\u001b[39m) & (sarah_power.index.day == \u001b[32m29\u001b[39m))]\n\u001b[32m      4\u001b[39m era5_pu = era5_pu[~((era5_pu.index.month == \u001b[32m2\u001b[39m) & (era5_pu.index.day == \u001b[32m29\u001b[39m))]\n",
      "\u001b[31mNameError\u001b[39m: name 'era5_power' is not defined"
     ]
    }
   ],
   "source": [
    "# remove any 29 Feb on leap years\n",
    "era5_power = era5_power[~((era5_power.index.month == 2) & (era5_power.index.day == 29))]\n",
    "sarah_power = sarah_power[~((sarah_power.index.month == 2) & (sarah_power.index.day == 29))]\n",
    "era5_pu = era5_pu[~((era5_pu.index.month == 2) & (era5_pu.index.day == 29))]\n",
    "sarah_pu = sarah_pu[~((sarah_pu.index.month == 2) & (sarah_pu.index.day == 29))]"
   ]
  },
  {
   "cell_type": "markdown",
   "metadata": {},
   "source": [
    "# CSIR and Fraunhofer SWA Study"
   ]
  },
  {
   "cell_type": "code",
   "execution_count": 7,
   "metadata": {},
   "outputs": [
    {
     "name": "stderr",
     "output_type": "stream",
     "text": [
      "/tmp/ipykernel_203186/1027046323.py:2: UserWarning: Could not infer format, so each element will be parsed individually, falling back to `dateutil`. To ensure parsing is consistent and as-expected, please specify a format.\n",
      "  csir_fise = pd.read_excel(\"csir_fise_SWA_data.xlsx\", sheet_name = \"27-solar_pv\", index_col=0, parse_dates=True)\n"
     ]
    }
   ],
   "source": [
    "# Only available for RSA as single region or as 27 Supply Regions\n",
    "csir_fise = pd.read_excel(\"csir_fise_SWA_data.xlsx\", sheet_name = \"27-solar_pv\", index_col=0, parse_dates=True)\n",
    "csir_fise = csir_fise.iloc[1:]\n",
    "csir_fise.index = pd.DatetimeIndex(csir_fise.index)\n",
    "csir_fise = csir_fise[~((csir_fise.index.month == 2) & (csir_fise.index.day == 29))]"
   ]
  },
  {
   "cell_type": "code",
   "execution_count": 8,
   "metadata": {},
   "outputs": [
    {
     "ename": "NameError",
     "evalue": "name 'Point' is not defined",
     "output_type": "error",
     "traceback": [
      "\u001b[31m---------------------------------------------------------------------------\u001b[39m",
      "\u001b[31mNameError\u001b[39m                                 Traceback (most recent call last)",
      "\u001b[36mCell\u001b[39m\u001b[36m \u001b[39m\u001b[32mIn[8]\u001b[39m\u001b[32m, line 1\u001b[39m\n\u001b[32m----> \u001b[39m\u001b[32m1\u001b[39m points_gdf = [\u001b[43mPoint\u001b[49m(lon, lat) \u001b[38;5;28;01mfor\u001b[39;00m lon,lat \u001b[38;5;129;01min\u001b[39;00m reippp_data[[\u001b[33m\"\u001b[39m\u001b[33mlongitude\u001b[39m\u001b[33m\"\u001b[39m, \u001b[33m\"\u001b[39m\u001b[33mlatitude\u001b[39m\u001b[33m\"\u001b[39m]].values]\n\u001b[32m      2\u001b[39m points_gdf = gpd.GeoDataFrame(geometry=points_gdf, crs=\u001b[33m\"\u001b[39m\u001b[33mEPSG:4326\u001b[39m\u001b[33m\"\u001b[39m)\n\u001b[32m      3\u001b[39m region_list = gpd.sjoin(points_gdf,gis_data[\u001b[33m\"\u001b[39m\u001b[33msupply_regions\u001b[39m\u001b[33m\"\u001b[39m][\u001b[32m27\u001b[39m],how=\u001b[33m\"\u001b[39m\u001b[33mleft\u001b[39m\u001b[33m\"\u001b[39m,op=\u001b[33m\"\u001b[39m\u001b[33mwithin\u001b[39m\u001b[33m\"\u001b[39m)[\u001b[33m\"\u001b[39m\u001b[33mname\u001b[39m\u001b[33m\"\u001b[39m]\n",
      "\u001b[31mNameError\u001b[39m: name 'Point' is not defined"
     ]
    }
   ],
   "source": [
    "points_gdf = [Point(lon, lat) for lon,lat in reippp_data[[\"longitude\", \"latitude\"]].values]\n",
    "points_gdf = gpd.GeoDataFrame(geometry=points_gdf, crs=\"EPSG:4326\")\n",
    "region_list = gpd.sjoin(points_gdf,gis_data[\"supply_regions\"][27],how=\"left\",op=\"within\")[\"name\"]\n",
    "reippp_data[\"csir_region\"] = region_list.values\n",
    "\n",
    "# Only 1 year is available in CSIR-FISE data which gets repeated to fill up according to the REIPPPP data\n",
    "csir_pu = pd.DataFrame(\n",
    "    index = era5_pu.index,\n",
    "    columns = reippp_data.index\n",
    ")\n",
    "\n",
    "for idx, row in reippp_data.iterrows():\n",
    "    for y in range(2017, 2023):\n",
    "        csir_pu.loc[csir_pu.index.year == y, idx] = csir_fise[row[\"csir_region\"]].values"
   ]
  },
  {
   "cell_type": "markdown",
   "metadata": {},
   "source": [
    "# NSRDB and PySAM\n",
    "This code assumes that data points for each reippp site have been downloaded from the available NREL platforms"
   ]
  },
  {
   "cell_type": "code",
   "execution_count": 9,
   "metadata": {},
   "outputs": [],
   "source": [
    "sam_path = \"../../data/weather/NREL SAM weather files/REIPPPP/\"\n",
    "\n",
    "pv_model = pv.new()\n",
    "pv_inputs_ft ={\n",
    "\t\t\"use_wf_albedo\" : 1,\n",
    "\t\t\"system_capacity\" : 120000,\n",
    "\t\t\"module_type\" : 1,\n",
    "\t\t\"dc_ac_ratio\" : 1,\n",
    "\t\t\"bifaciality\" : 0,\n",
    "\t\t\"array_type\" : 0,\n",
    "\t\t\"azimuth\" : 0,\n",
    "\t\t\"gcr\" : 0.1,\n",
    "\t\t\"soiling\" : [0, 0, 0, 0, 0, 0, 0, 0, 0, 0, 0, 0],\n",
    "\t\t\"losses\" : 11.42,\n",
    "\t\t\"en_snowloss\" : 0,\n",
    "\t\t\"inv_eff\" : 96,\n",
    "\t\t\"batt_simple_enable\" : 0,\n",
    "\t\t\"constant\" : 0\n",
    "\t}\n",
    "pv_inputs_sat={\n",
    "\t\"use_wf_albedo\" : 1,\n",
    "\t\"system_capacity\" : 120000,\n",
    "\t\"module_type\" : 1,\n",
    "\t\"dc_ac_ratio\" : 1.15,\n",
    "\t\"bifaciality\" : 0,\n",
    "\t\"array_type\" : 2,\n",
    "\t\"tilt\" : 0,\n",
    "\t\"azimuth\" : 0,\n",
    "\t\"gcr\" : 0.3,\n",
    "\t\"soiling\" : [0, 0, 0, 0, 0, 0, 0, 0, 0, 0, 0, 0],\n",
    "\t\"losses\" : 11.42, \n",
    "\t\"en_snowloss\" : 0,\n",
    "\t\"inv_eff\" : 96,\n",
    "\t\"batt_simple_enable\" : 0,\n",
    "\t\"constant\" : 0\n",
    "}"
   ]
  },
  {
   "cell_type": "code",
   "execution_count": 10,
   "metadata": {},
   "outputs": [],
   "source": [
    "sam_files = os.listdir(sam_path)"
   ]
  },
  {
   "cell_type": "code",
   "execution_count": 11,
   "metadata": {},
   "outputs": [
    {
     "name": "stderr",
     "output_type": "stream",
     "text": [
      "/media/pklein/Data/Shared Github/pypsa-za2/pre_processing/resource_processing/_helpers.py:220: UserWarning: Geometry is in a geographic CRS. Results from 'distance' are likely incorrect. Use 'GeoSeries.to_crs()' to re-project geometries to a projected CRS before this operation.\n",
      "\n",
      "  points_gdf[\"distance\"] = points_gdf.distance(reippp_point)\n",
      "/media/pklein/Data/Shared Github/pypsa-za2/pre_processing/resource_processing/_helpers.py:220: UserWarning: Geometry is in a geographic CRS. Results from 'distance' are likely incorrect. Use 'GeoSeries.to_crs()' to re-project geometries to a projected CRS before this operation.\n",
      "\n",
      "  points_gdf[\"distance\"] = points_gdf.distance(reippp_point)\n",
      "/media/pklein/Data/Shared Github/pypsa-za2/pre_processing/resource_processing/_helpers.py:220: UserWarning: Geometry is in a geographic CRS. Results from 'distance' are likely incorrect. Use 'GeoSeries.to_crs()' to re-project geometries to a projected CRS before this operation.\n",
      "\n",
      "  points_gdf[\"distance\"] = points_gdf.distance(reippp_point)\n",
      "/media/pklein/Data/Shared Github/pypsa-za2/pre_processing/resource_processing/_helpers.py:220: UserWarning: Geometry is in a geographic CRS. Results from 'distance' are likely incorrect. Use 'GeoSeries.to_crs()' to re-project geometries to a projected CRS before this operation.\n",
      "\n",
      "  points_gdf[\"distance\"] = points_gdf.distance(reippp_point)\n",
      "/media/pklein/Data/Shared Github/pypsa-za2/pre_processing/resource_processing/_helpers.py:220: UserWarning: Geometry is in a geographic CRS. Results from 'distance' are likely incorrect. Use 'GeoSeries.to_crs()' to re-project geometries to a projected CRS before this operation.\n",
      "\n",
      "  points_gdf[\"distance\"] = points_gdf.distance(reippp_point)\n",
      "/media/pklein/Data/Shared Github/pypsa-za2/pre_processing/resource_processing/_helpers.py:220: UserWarning: Geometry is in a geographic CRS. Results from 'distance' are likely incorrect. Use 'GeoSeries.to_crs()' to re-project geometries to a projected CRS before this operation.\n",
      "\n",
      "  points_gdf[\"distance\"] = points_gdf.distance(reippp_point)\n",
      "/media/pklein/Data/Shared Github/pypsa-za2/pre_processing/resource_processing/_helpers.py:220: UserWarning: Geometry is in a geographic CRS. Results from 'distance' are likely incorrect. Use 'GeoSeries.to_crs()' to re-project geometries to a projected CRS before this operation.\n",
      "\n",
      "  points_gdf[\"distance\"] = points_gdf.distance(reippp_point)\n",
      "/media/pklein/Data/Shared Github/pypsa-za2/pre_processing/resource_processing/_helpers.py:220: UserWarning: Geometry is in a geographic CRS. Results from 'distance' are likely incorrect. Use 'GeoSeries.to_crs()' to re-project geometries to a projected CRS before this operation.\n",
      "\n",
      "  points_gdf[\"distance\"] = points_gdf.distance(reippp_point)\n",
      "/media/pklein/Data/Shared Github/pypsa-za2/pre_processing/resource_processing/_helpers.py:220: UserWarning: Geometry is in a geographic CRS. Results from 'distance' are likely incorrect. Use 'GeoSeries.to_crs()' to re-project geometries to a projected CRS before this operation.\n",
      "\n",
      "  points_gdf[\"distance\"] = points_gdf.distance(reippp_point)\n",
      "/media/pklein/Data/Shared Github/pypsa-za2/pre_processing/resource_processing/_helpers.py:220: UserWarning: Geometry is in a geographic CRS. Results from 'distance' are likely incorrect. Use 'GeoSeries.to_crs()' to re-project geometries to a projected CRS before this operation.\n",
      "\n",
      "  points_gdf[\"distance\"] = points_gdf.distance(reippp_point)\n",
      "/media/pklein/Data/Shared Github/pypsa-za2/pre_processing/resource_processing/_helpers.py:220: UserWarning: Geometry is in a geographic CRS. Results from 'distance' are likely incorrect. Use 'GeoSeries.to_crs()' to re-project geometries to a projected CRS before this operation.\n",
      "\n",
      "  points_gdf[\"distance\"] = points_gdf.distance(reippp_point)\n",
      "/media/pklein/Data/Shared Github/pypsa-za2/pre_processing/resource_processing/_helpers.py:220: UserWarning: Geometry is in a geographic CRS. Results from 'distance' are likely incorrect. Use 'GeoSeries.to_crs()' to re-project geometries to a projected CRS before this operation.\n",
      "\n",
      "  points_gdf[\"distance\"] = points_gdf.distance(reippp_point)\n",
      "/media/pklein/Data/Shared Github/pypsa-za2/pre_processing/resource_processing/_helpers.py:220: UserWarning: Geometry is in a geographic CRS. Results from 'distance' are likely incorrect. Use 'GeoSeries.to_crs()' to re-project geometries to a projected CRS before this operation.\n",
      "\n",
      "  points_gdf[\"distance\"] = points_gdf.distance(reippp_point)\n",
      "/media/pklein/Data/Shared Github/pypsa-za2/pre_processing/resource_processing/_helpers.py:220: UserWarning: Geometry is in a geographic CRS. Results from 'distance' are likely incorrect. Use 'GeoSeries.to_crs()' to re-project geometries to a projected CRS before this operation.\n",
      "\n",
      "  points_gdf[\"distance\"] = points_gdf.distance(reippp_point)\n",
      "/media/pklein/Data/Shared Github/pypsa-za2/pre_processing/resource_processing/_helpers.py:220: UserWarning: Geometry is in a geographic CRS. Results from 'distance' are likely incorrect. Use 'GeoSeries.to_crs()' to re-project geometries to a projected CRS before this operation.\n",
      "\n",
      "  points_gdf[\"distance\"] = points_gdf.distance(reippp_point)\n",
      "/media/pklein/Data/Shared Github/pypsa-za2/pre_processing/resource_processing/_helpers.py:220: UserWarning: Geometry is in a geographic CRS. Results from 'distance' are likely incorrect. Use 'GeoSeries.to_crs()' to re-project geometries to a projected CRS before this operation.\n",
      "\n",
      "  points_gdf[\"distance\"] = points_gdf.distance(reippp_point)\n",
      "/media/pklein/Data/Shared Github/pypsa-za2/pre_processing/resource_processing/_helpers.py:220: UserWarning: Geometry is in a geographic CRS. Results from 'distance' are likely incorrect. Use 'GeoSeries.to_crs()' to re-project geometries to a projected CRS before this operation.\n",
      "\n",
      "  points_gdf[\"distance\"] = points_gdf.distance(reippp_point)\n",
      "/media/pklein/Data/Shared Github/pypsa-za2/pre_processing/resource_processing/_helpers.py:220: UserWarning: Geometry is in a geographic CRS. Results from 'distance' are likely incorrect. Use 'GeoSeries.to_crs()' to re-project geometries to a projected CRS before this operation.\n",
      "\n",
      "  points_gdf[\"distance\"] = points_gdf.distance(reippp_point)\n",
      "/media/pklein/Data/Shared Github/pypsa-za2/pre_processing/resource_processing/_helpers.py:220: UserWarning: Geometry is in a geographic CRS. Results from 'distance' are likely incorrect. Use 'GeoSeries.to_crs()' to re-project geometries to a projected CRS before this operation.\n",
      "\n",
      "  points_gdf[\"distance\"] = points_gdf.distance(reippp_point)\n",
      "/media/pklein/Data/Shared Github/pypsa-za2/pre_processing/resource_processing/_helpers.py:220: UserWarning: Geometry is in a geographic CRS. Results from 'distance' are likely incorrect. Use 'GeoSeries.to_crs()' to re-project geometries to a projected CRS before this operation.\n",
      "\n",
      "  points_gdf[\"distance\"] = points_gdf.distance(reippp_point)\n",
      "/media/pklein/Data/Shared Github/pypsa-za2/pre_processing/resource_processing/_helpers.py:220: UserWarning: Geometry is in a geographic CRS. Results from 'distance' are likely incorrect. Use 'GeoSeries.to_crs()' to re-project geometries to a projected CRS before this operation.\n",
      "\n",
      "  points_gdf[\"distance\"] = points_gdf.distance(reippp_point)\n",
      "/media/pklein/Data/Shared Github/pypsa-za2/pre_processing/resource_processing/_helpers.py:220: UserWarning: Geometry is in a geographic CRS. Results from 'distance' are likely incorrect. Use 'GeoSeries.to_crs()' to re-project geometries to a projected CRS before this operation.\n",
      "\n",
      "  points_gdf[\"distance\"] = points_gdf.distance(reippp_point)\n",
      "/media/pklein/Data/Shared Github/pypsa-za2/pre_processing/resource_processing/_helpers.py:220: UserWarning: Geometry is in a geographic CRS. Results from 'distance' are likely incorrect. Use 'GeoSeries.to_crs()' to re-project geometries to a projected CRS before this operation.\n",
      "\n",
      "  points_gdf[\"distance\"] = points_gdf.distance(reippp_point)\n",
      "/media/pklein/Data/Shared Github/pypsa-za2/pre_processing/resource_processing/_helpers.py:220: UserWarning: Geometry is in a geographic CRS. Results from 'distance' are likely incorrect. Use 'GeoSeries.to_crs()' to re-project geometries to a projected CRS before this operation.\n",
      "\n",
      "  points_gdf[\"distance\"] = points_gdf.distance(reippp_point)\n",
      "/media/pklein/Data/Shared Github/pypsa-za2/pre_processing/resource_processing/_helpers.py:220: UserWarning: Geometry is in a geographic CRS. Results from 'distance' are likely incorrect. Use 'GeoSeries.to_crs()' to re-project geometries to a projected CRS before this operation.\n",
      "\n",
      "  points_gdf[\"distance\"] = points_gdf.distance(reippp_point)\n",
      "/media/pklein/Data/Shared Github/pypsa-za2/pre_processing/resource_processing/_helpers.py:220: UserWarning: Geometry is in a geographic CRS. Results from 'distance' are likely incorrect. Use 'GeoSeries.to_crs()' to re-project geometries to a projected CRS before this operation.\n",
      "\n",
      "  points_gdf[\"distance\"] = points_gdf.distance(reippp_point)\n",
      "/media/pklein/Data/Shared Github/pypsa-za2/pre_processing/resource_processing/_helpers.py:220: UserWarning: Geometry is in a geographic CRS. Results from 'distance' are likely incorrect. Use 'GeoSeries.to_crs()' to re-project geometries to a projected CRS before this operation.\n",
      "\n",
      "  points_gdf[\"distance\"] = points_gdf.distance(reippp_point)\n",
      "/media/pklein/Data/Shared Github/pypsa-za2/pre_processing/resource_processing/_helpers.py:220: UserWarning: Geometry is in a geographic CRS. Results from 'distance' are likely incorrect. Use 'GeoSeries.to_crs()' to re-project geometries to a projected CRS before this operation.\n",
      "\n",
      "  points_gdf[\"distance\"] = points_gdf.distance(reippp_point)\n",
      "/media/pklein/Data/Shared Github/pypsa-za2/pre_processing/resource_processing/_helpers.py:220: UserWarning: Geometry is in a geographic CRS. Results from 'distance' are likely incorrect. Use 'GeoSeries.to_crs()' to re-project geometries to a projected CRS before this operation.\n",
      "\n",
      "  points_gdf[\"distance\"] = points_gdf.distance(reippp_point)\n",
      "/media/pklein/Data/Shared Github/pypsa-za2/pre_processing/resource_processing/_helpers.py:220: UserWarning: Geometry is in a geographic CRS. Results from 'distance' are likely incorrect. Use 'GeoSeries.to_crs()' to re-project geometries to a projected CRS before this operation.\n",
      "\n",
      "  points_gdf[\"distance\"] = points_gdf.distance(reippp_point)\n",
      "/media/pklein/Data/Shared Github/pypsa-za2/pre_processing/resource_processing/_helpers.py:220: UserWarning: Geometry is in a geographic CRS. Results from 'distance' are likely incorrect. Use 'GeoSeries.to_crs()' to re-project geometries to a projected CRS before this operation.\n",
      "\n",
      "  points_gdf[\"distance\"] = points_gdf.distance(reippp_point)\n",
      "/media/pklein/Data/Shared Github/pypsa-za2/pre_processing/resource_processing/_helpers.py:220: UserWarning: Geometry is in a geographic CRS. Results from 'distance' are likely incorrect. Use 'GeoSeries.to_crs()' to re-project geometries to a projected CRS before this operation.\n",
      "\n",
      "  points_gdf[\"distance\"] = points_gdf.distance(reippp_point)\n",
      "/media/pklein/Data/Shared Github/pypsa-za2/pre_processing/resource_processing/_helpers.py:220: UserWarning: Geometry is in a geographic CRS. Results from 'distance' are likely incorrect. Use 'GeoSeries.to_crs()' to re-project geometries to a projected CRS before this operation.\n",
      "\n",
      "  points_gdf[\"distance\"] = points_gdf.distance(reippp_point)\n",
      "/media/pklein/Data/Shared Github/pypsa-za2/pre_processing/resource_processing/_helpers.py:220: UserWarning: Geometry is in a geographic CRS. Results from 'distance' are likely incorrect. Use 'GeoSeries.to_crs()' to re-project geometries to a projected CRS before this operation.\n",
      "\n",
      "  points_gdf[\"distance\"] = points_gdf.distance(reippp_point)\n",
      "/media/pklein/Data/Shared Github/pypsa-za2/pre_processing/resource_processing/_helpers.py:220: UserWarning: Geometry is in a geographic CRS. Results from 'distance' are likely incorrect. Use 'GeoSeries.to_crs()' to re-project geometries to a projected CRS before this operation.\n",
      "\n",
      "  points_gdf[\"distance\"] = points_gdf.distance(reippp_point)\n",
      "/media/pklein/Data/Shared Github/pypsa-za2/pre_processing/resource_processing/_helpers.py:220: UserWarning: Geometry is in a geographic CRS. Results from 'distance' are likely incorrect. Use 'GeoSeries.to_crs()' to re-project geometries to a projected CRS before this operation.\n",
      "\n",
      "  points_gdf[\"distance\"] = points_gdf.distance(reippp_point)\n",
      "/media/pklein/Data/Shared Github/pypsa-za2/pre_processing/resource_processing/_helpers.py:220: UserWarning: Geometry is in a geographic CRS. Results from 'distance' are likely incorrect. Use 'GeoSeries.to_crs()' to re-project geometries to a projected CRS before this operation.\n",
      "\n",
      "  points_gdf[\"distance\"] = points_gdf.distance(reippp_point)\n",
      "/media/pklein/Data/Shared Github/pypsa-za2/pre_processing/resource_processing/_helpers.py:220: UserWarning: Geometry is in a geographic CRS. Results from 'distance' are likely incorrect. Use 'GeoSeries.to_crs()' to re-project geometries to a projected CRS before this operation.\n",
      "\n",
      "  points_gdf[\"distance\"] = points_gdf.distance(reippp_point)\n",
      "/media/pklein/Data/Shared Github/pypsa-za2/pre_processing/resource_processing/_helpers.py:220: UserWarning: Geometry is in a geographic CRS. Results from 'distance' are likely incorrect. Use 'GeoSeries.to_crs()' to re-project geometries to a projected CRS before this operation.\n",
      "\n",
      "  points_gdf[\"distance\"] = points_gdf.distance(reippp_point)\n",
      "/media/pklein/Data/Shared Github/pypsa-za2/pre_processing/resource_processing/_helpers.py:220: UserWarning: Geometry is in a geographic CRS. Results from 'distance' are likely incorrect. Use 'GeoSeries.to_crs()' to re-project geometries to a projected CRS before this operation.\n",
      "\n",
      "  points_gdf[\"distance\"] = points_gdf.distance(reippp_point)\n",
      "/media/pklein/Data/Shared Github/pypsa-za2/pre_processing/resource_processing/_helpers.py:220: UserWarning: Geometry is in a geographic CRS. Results from 'distance' are likely incorrect. Use 'GeoSeries.to_crs()' to re-project geometries to a projected CRS before this operation.\n",
      "\n",
      "  points_gdf[\"distance\"] = points_gdf.distance(reippp_point)\n",
      "/media/pklein/Data/Shared Github/pypsa-za2/pre_processing/resource_processing/_helpers.py:220: UserWarning: Geometry is in a geographic CRS. Results from 'distance' are likely incorrect. Use 'GeoSeries.to_crs()' to re-project geometries to a projected CRS before this operation.\n",
      "\n",
      "  points_gdf[\"distance\"] = points_gdf.distance(reippp_point)\n",
      "/media/pklein/Data/Shared Github/pypsa-za2/pre_processing/resource_processing/_helpers.py:220: UserWarning: Geometry is in a geographic CRS. Results from 'distance' are likely incorrect. Use 'GeoSeries.to_crs()' to re-project geometries to a projected CRS before this operation.\n",
      "\n",
      "  points_gdf[\"distance\"] = points_gdf.distance(reippp_point)\n",
      "/media/pklein/Data/Shared Github/pypsa-za2/pre_processing/resource_processing/_helpers.py:220: UserWarning: Geometry is in a geographic CRS. Results from 'distance' are likely incorrect. Use 'GeoSeries.to_crs()' to re-project geometries to a projected CRS before this operation.\n",
      "\n",
      "  points_gdf[\"distance\"] = points_gdf.distance(reippp_point)\n",
      "/media/pklein/Data/Shared Github/pypsa-za2/pre_processing/resource_processing/_helpers.py:220: UserWarning: Geometry is in a geographic CRS. Results from 'distance' are likely incorrect. Use 'GeoSeries.to_crs()' to re-project geometries to a projected CRS before this operation.\n",
      "\n",
      "  points_gdf[\"distance\"] = points_gdf.distance(reippp_point)\n",
      "/media/pklein/Data/Shared Github/pypsa-za2/pre_processing/resource_processing/_helpers.py:220: UserWarning: Geometry is in a geographic CRS. Results from 'distance' are likely incorrect. Use 'GeoSeries.to_crs()' to re-project geometries to a projected CRS before this operation.\n",
      "\n",
      "  points_gdf[\"distance\"] = points_gdf.distance(reippp_point)\n",
      "/media/pklein/Data/Shared Github/pypsa-za2/pre_processing/resource_processing/_helpers.py:220: UserWarning: Geometry is in a geographic CRS. Results from 'distance' are likely incorrect. Use 'GeoSeries.to_crs()' to re-project geometries to a projected CRS before this operation.\n",
      "\n",
      "  points_gdf[\"distance\"] = points_gdf.distance(reippp_point)\n",
      "/media/pklein/Data/Shared Github/pypsa-za2/pre_processing/resource_processing/_helpers.py:220: UserWarning: Geometry is in a geographic CRS. Results from 'distance' are likely incorrect. Use 'GeoSeries.to_crs()' to re-project geometries to a projected CRS before this operation.\n",
      "\n",
      "  points_gdf[\"distance\"] = points_gdf.distance(reippp_point)\n",
      "/media/pklein/Data/Shared Github/pypsa-za2/pre_processing/resource_processing/_helpers.py:220: UserWarning: Geometry is in a geographic CRS. Results from 'distance' are likely incorrect. Use 'GeoSeries.to_crs()' to re-project geometries to a projected CRS before this operation.\n",
      "\n",
      "  points_gdf[\"distance\"] = points_gdf.distance(reippp_point)\n",
      "/media/pklein/Data/Shared Github/pypsa-za2/pre_processing/resource_processing/_helpers.py:220: UserWarning: Geometry is in a geographic CRS. Results from 'distance' are likely incorrect. Use 'GeoSeries.to_crs()' to re-project geometries to a projected CRS before this operation.\n",
      "\n",
      "  points_gdf[\"distance\"] = points_gdf.distance(reippp_point)\n",
      "/media/pklein/Data/Shared Github/pypsa-za2/pre_processing/resource_processing/_helpers.py:220: UserWarning: Geometry is in a geographic CRS. Results from 'distance' are likely incorrect. Use 'GeoSeries.to_crs()' to re-project geometries to a projected CRS before this operation.\n",
      "\n",
      "  points_gdf[\"distance\"] = points_gdf.distance(reippp_point)\n",
      "/media/pklein/Data/Shared Github/pypsa-za2/pre_processing/resource_processing/_helpers.py:220: UserWarning: Geometry is in a geographic CRS. Results from 'distance' are likely incorrect. Use 'GeoSeries.to_crs()' to re-project geometries to a projected CRS before this operation.\n",
      "\n",
      "  points_gdf[\"distance\"] = points_gdf.distance(reippp_point)\n",
      "/media/pklein/Data/Shared Github/pypsa-za2/pre_processing/resource_processing/_helpers.py:220: UserWarning: Geometry is in a geographic CRS. Results from 'distance' are likely incorrect. Use 'GeoSeries.to_crs()' to re-project geometries to a projected CRS before this operation.\n",
      "\n",
      "  points_gdf[\"distance\"] = points_gdf.distance(reippp_point)\n",
      "/media/pklein/Data/Shared Github/pypsa-za2/pre_processing/resource_processing/_helpers.py:220: UserWarning: Geometry is in a geographic CRS. Results from 'distance' are likely incorrect. Use 'GeoSeries.to_crs()' to re-project geometries to a projected CRS before this operation.\n",
      "\n",
      "  points_gdf[\"distance\"] = points_gdf.distance(reippp_point)\n"
     ]
    }
   ],
   "source": [
    "# run through all gpd coordinates and get the capacity factor for each\n",
    "pysam_power = pd.DataFrame(index = pd.date_range('2017-01-01 00:00','2019-12-31 23:00',freq='H'),columns=reippp_data.index)\n",
    "pysam_pu = pysam_power.copy()\n",
    "for idx, row in reippp_data.iterrows():\n",
    "    if not row[\"ignore\"]:\n",
    "\n",
    "        for y in [2017,2018,2019]:\n",
    "            # Try load file with lat,lon directly else find closest available file\n",
    "            try:\n",
    "                lat = row[\"latitude\"]\n",
    "                lon = row[\"longitude\"]\n",
    "                path = f\"{sam_path}{lat}_{lon}\"\n",
    "                file = get_nsrdb_weather_file(path, 60, y)    \n",
    "            except:\n",
    "               lat,lon = find_closest_nsrdb_file((lat,lon), sam_files)\n",
    "               path = f\"{sam_path}{lat}_{lon}\"\n",
    "               file = get_nsrdb_weather_file(path, 60, y)        \n",
    "\n",
    "            if row['Type'] =='Fixed Tilt':\n",
    "                pv_inputs = pv_inputs_ft.copy()\n",
    "                pv_inputs['tilt'] = -row['latitude']\n",
    "                if row['BW'] <=2:\n",
    "                    pv_inputs[\"module_type\"]=0\n",
    "            else:\n",
    "                pv_inputs = pv_inputs_sat.copy()\n",
    "\n",
    "            pv_inputs['solar_resource_file'] = f\"{os.getcwd()}/{path}/{file}\"\n",
    "            pv_inputs['dc_ac_ratio'] = row['dc_ac_ratio']\n",
    "\n",
    "            # iterate through the input key-value pairs and set the module inputs\n",
    "            for k, v in pv_inputs.items():\n",
    "                if k != 'number_inputs':\n",
    "                    pv_model.value(k, v)\n",
    "\n",
    "            # run the module\n",
    "            pv_model.execute()\n",
    "            pysam_pu.loc[str(y),idx] = (pd.Series(pv_model.Outputs.ac)/(pv_inputs['system_capacity']/pv_inputs['dc_ac_ratio']*1000)).values\n",
    "\n",
    "        instl_cap = pd.Series(row[\"capacity\"], index = pysam_pu.index)\n",
    "        instl_cap[instl_cap.index < row[\"COD\"]] = 0\n",
    "        capacity[idx] = instl_cap\n",
    "        pysam_power[idx] = pysam_pu[idx] * capacity[idx]\n",
    "\n",
    "pysam_power = pysam_power.fillna(0)\n",
    "pysam_pu = pysam_pu.fillna(0)"
   ]
  },
  {
   "cell_type": "markdown",
   "metadata": {},
   "source": [
    "# Export data to NetCDF"
   ]
  },
  {
   "cell_type": "code",
   "execution_count": 12,
   "metadata": {},
   "outputs": [],
   "source": [
    "for module in [\"era5\",\"sarah\",\"csir\"]:\n",
    "\n",
    "    timeseries = xr.DataArray(\n",
    "        np.zeros((len(era5_pu), len(era5_pu.columns), 2)),\n",
    "        coords = {\"time\": era5_pu.index, \"plant\": era5_pu.columns.values, \"param\": [\"power\", \"pu\"]},\n",
    "        dims = [\"time\", \"plant\", \"param\"]\n",
    "    )\n",
    "    if module == \"era5\":\n",
    "        timeseries.loc[dict(plant=era5_pu.columns.values, param=\"pu\")] = era5_pu.values\n",
    "        timeseries.loc[dict(plant=era5_pu.columns.values, param=\"power\")] = era5_power.values\n",
    "    elif module == \"sarah\":\n",
    "        timeseries.loc[dict(plant=sarah_pu.columns.values, param=\"pu\")] = sarah_pu.values\n",
    "        timeseries.loc[dict(plant=sarah_pu.columns.values, param=\"power\")] = sarah_power.values\n",
    "    elif module==\"csir\":\n",
    "        timeseries.loc[dict(plant=csir_pu.columns.values, param=\"pu\")] = csir_pu.values\n",
    "    else:\n",
    "        timeseries.loc[dict(plant=pysam_pu.columns.values, param=\"pu\")] = pysam_pu.values\n",
    "        timeseries.loc[dict(plant=pysam_pu.columns.values, param=\"power\")] = pysam_power.values\n",
    "\n",
    "    timeseries.to_netcdf(f\"timeseries_data/fixed_solar_pv_{module}.nc\")"
   ]
  }
 ],
 "metadata": {
  "kernelspec": {
   "display_name": "pypsa-rsa",
   "language": "python",
   "name": "python3"
  },
  "language_info": {
   "codemirror_mode": {
    "name": "ipython",
    "version": 3
   },
   "file_extension": ".py",
   "mimetype": "text/x-python",
   "name": "python",
   "nbconvert_exporter": "python",
   "pygments_lexer": "ipython3",
   "version": "3.10.17"
  }
 },
 "nbformat": 4,
 "nbformat_minor": 2
}
