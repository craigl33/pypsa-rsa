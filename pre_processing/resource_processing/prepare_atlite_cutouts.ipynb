{
 "cells": [
  {
   "cell_type": "markdown",
   "metadata": {},
   "source": [
    "# Overview\n",
    "\n",
    "Run this script to generate ERA5 and SARAH cutouts using atlite. The two weather data sources used by atlite are:\n",
    "\n",
    " - ERA5 (wind and solar)\n",
    "   - ERA5 data can be downloaded through the Copernicus Climate Data Store cdsapi package, and requires \n",
    "registration and setup as per https://cds.climate.copernicus.eu/api-how-to\n",
    " - SARAH (solar)\n",
    "   - SARAH data can be downloaded via from EUMETSAT CMSAF using the portal https://wui.cmsaf.eu/safira/action/viewProduktSearch\n",
    "Surface Incoming Direct Radiation (SID), Surface Incoming Shortwave Radiation (SIS) and Direct Normal Irradiance (DNI) should be downloaded\n",
    "and extracted into the sarah_dir path"
   ]
  },
  {
   "cell_type": "code",
   "execution_count": 1,
   "metadata": {},
   "outputs": [],
   "source": [
    "import atlite"
   ]
  },
  {
   "cell_type": "markdown",
   "metadata": {},
   "source": [
    "# Prepare ERA5 cutout"
   ]
  },
  {
   "cell_type": "code",
   "execution_count": 1,
   "metadata": {},
   "outputs": [
    {
     "ename": "NameError",
     "evalue": "name 'atlite' is not defined",
     "output_type": "error",
     "traceback": [
      "\u001b[31m---------------------------------------------------------------------------\u001b[39m",
      "\u001b[31mNameError\u001b[39m                                 Traceback (most recent call last)",
      "\u001b[36mCell\u001b[39m\u001b[36m \u001b[39m\u001b[32mIn[1]\u001b[39m\u001b[32m, line 1\u001b[39m\n\u001b[32m----> \u001b[39m\u001b[32m1\u001b[39m cutout_era5 = \u001b[43matlite\u001b[49m.Cutout(\n\u001b[32m      2\u001b[39m     path=\u001b[33m\"\u001b[39m\u001b[33m../../cutouts/RSA-2010_22-era5.nc\u001b[39m\u001b[33m\"\u001b[39m,\n\u001b[32m      3\u001b[39m     \u001b[38;5;66;03m#module=[\"era5\"],\u001b[39;00m\n\u001b[32m      4\u001b[39m     \u001b[38;5;66;03m#x=slice(16, 35),\u001b[39;00m\n\u001b[32m      5\u001b[39m     \u001b[38;5;66;03m#y=slice(-35, -21),\u001b[39;00m\n\u001b[32m      6\u001b[39m     \u001b[38;5;66;03m#time=slice(\"2020\",\"2021\"), # e.g. download 2 years of weather data\u001b[39;00m\n\u001b[32m      7\u001b[39m     chunks={\u001b[33m\"\u001b[39m\u001b[33mtime\u001b[39m\u001b[33m\"\u001b[39m: \u001b[32m100\u001b[39m},\n\u001b[32m      8\u001b[39m )\n",
      "\u001b[31mNameError\u001b[39m: name 'atlite' is not defined"
     ]
    }
   ],
   "source": [
    "cutout_era5 = atlite.Cutout(\n",
    "    path=\"../../cutouts/RSA-2010_22-era5.nc\",\n",
    "    #module=[\"era5\"],\n",
    "    #x=slice(16, 35),\n",
    "    #y=slice(-35, -21),\n",
    "    #time=slice(\"2020\",\"2021\"), # e.g. download 2 years of weather data\n",
    "    chunks={\"time\": 100},\n",
    ")"
   ]
  },
  {
   "cell_type": "code",
   "execution_count": 3,
   "metadata": {},
   "outputs": [],
   "source": [
    "cutout_era5.data = cutout_era5.data.sel(time=slice(\"2012\",\"2012\"))"
   ]
  },
  {
   "cell_type": "markdown",
   "metadata": {},
   "source": [
    "# Prepare SARAH cutout"
   ]
  },
  {
   "cell_type": "code",
   "execution_count": 7,
   "metadata": {},
   "outputs": [
    {
     "name": "stderr",
     "output_type": "stream",
     "text": [
      "/home/pklein/anaconda3/envs/atlite/lib/python3.12/site-packages/atlite/cutout.py:190: UserWarning: Arguments sarah_dir are ignored, since cutout is already built.\n",
      "  warn(\n"
     ]
    }
   ],
   "source": [
    "cutout_sarah = atlite.Cutout(\n",
    "    path=\"../../cutouts/RSA-2012-sarah.nc\",\n",
    "    #module=[\"sarah\"],\n",
    "    sarah_dir=\"../../cutouts/sarah_v3\",\n",
    "    #x=slice(16, 35),\n",
    "    #y=slice(-35, -21),\n",
    "    #time=slice(\"2012\",\"2012\"),\n",
    "    chunks={\"time\": 1000}, # temp fix chunking by lat-1 to resolve error on building the cutout\n",
    ")\n",
    "#cutout_sarah.prepare(features=\"influx\")"
   ]
  },
  {
   "cell_type": "code",
   "execution_count": 8,
   "metadata": {},
   "outputs": [],
   "source": [
    "# Merge Sarah and ERA5 cutouts if prepared separately\n",
    "cutout_sarah.data = cutout_sarah.data.interp(y=cutout_era5.grid.y.unique(), x=cutout_era5.grid.x.unique(), method=\"linear\")\n",
    "cutout_sarah = cutout_sarah.merge(cutout_era5, compat=\"override\")\n",
    "cutout_sarah.data.to_netcdf(\"RSA-2012-sarah.nc\")\n"
   ]
  },
  {
   "cell_type": "code",
   "execution_count": 38,
   "metadata": {},
   "outputs": [
    {
     "name": "stdout",
     "output_type": "stream",
     "text": [
      "2018\n",
      "2019\n",
      "2020\n",
      "2021\n",
      "2022\n"
     ]
    }
   ],
   "source": [
    "# Merge cutouts for multiple years\n",
    "\n",
    "cutout_sarah = atlite.Cutout(\n",
    "    path=\"../../cutouts/RSA-2012-sarah.nc\",\n",
    "    chunks={\"time\": 1000},\n",
    ")\n",
    "\n",
    "for y in [2018, 2019, 2020, 2021, 2022]:\n",
    "    print(y)\n",
    "    cutout_sarah = cutout_sarah.merge(\n",
    "        atlite.Cutout(\n",
    "            path=f\"../../cutouts/RSA-{y}-sarah.nc\",\n",
    "            chunks={\"time\": 1000}\n",
    "        )\n",
    "    )\n",
    "    \n",
    "cutout_sarah.data = cutout_sarah.data.interp(y=cutout_era5.grid.y.unique(), x=cutout_era5.grid.x.unique(), method=\"linear\")\n",
    "cutout_sarah = cutout_sarah.merge(cutout_era5, compat=\"override\")\n",
    "\n",
    "cutout_sarah.data.to_netcdf(\"RSA-2017_22-sarah.nc\")\n"
   ]
  }
 ],
 "metadata": {
  "kernelspec": {
   "display_name": "pypsa-rsa",
   "language": "python",
   "name": "python3"
  },
  "language_info": {
   "codemirror_mode": {
    "name": "ipython",
    "version": 3
   },
   "file_extension": ".py",
   "mimetype": "text/x-python",
   "name": "python",
   "nbconvert_exporter": "python",
   "pygments_lexer": "ipython3",
   "version": "3.10.17"
  }
 },
 "nbformat": 4,
 "nbformat_minor": 2
}
